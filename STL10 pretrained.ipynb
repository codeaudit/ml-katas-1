{
 "cells": [
  {
   "cell_type": "markdown",
   "metadata": {},
   "source": [
    "# STL-10 dataset (using pretrained weights)\n",
    "\n",
    "> The STL-10 dataset is an image recognition dataset for developing unsupervised feature learning, deep learning, self-taught learning algorithms. It is inspired by the CIFAR-10 dataset but with some modifications. In particular, each class has fewer labeled training examples than in CIFAR-10, but a very large set of unlabeled examples is provided to learn image models prior to supervised training. The primary challenge is to make use of the unlabeled data (which comes from a similar but different distribution from the labeled data) to build a useful prior. We also expect that the higher resolution of this dataset (96x96) will make it a challenging benchmark for developing more scalable unsupervised learning methods.\n",
    "\n",
    "\n",
    "The STL-10 dataset is interesting as it basically provides you two ways of solving it: \n",
    "- Use a pretrained network\n",
    "- Learn the image features, for example using a autoencoder to learn what features are important\n",
    "\n",
    "In this notebook I will provide a basic example of using a pretrained network. In this case this approach is a little bit of cheating. The STL-10 dataset takes data from imagenet, so we can take a network pretrained on imagenet and immediately get a good performance. \n"
   ]
  },
  {
   "cell_type": "code",
   "execution_count": null,
   "metadata": {
    "collapsed": true
   },
   "outputs": [],
   "source": [
    "import utils.plot_utils \n",
    "\n",
    "import torch\n",
    "import torchvision\n",
    "import torch.nn as nn\n",
    "import torch.nn.functional as F\n",
    "import torch.optim as optim\n",
    "from torchvision import datasets, transforms\n",
    "import torchvision.models as models\n"
   ]
  },
  {
   "cell_type": "code",
   "execution_count": null,
   "metadata": {},
   "outputs": [],
   "source": [
    "transform=torchvision.transforms.Compose([\n",
    "                           torchvision.transforms.ToTensor(),\n",
    "                           transforms.Normalize(mean=[0.485, 0.456, 0.406],\n",
    "                                 std=[0.229, 0.224, 0.225])])\n",
    "\n",
    "use_cuda = torch.cuda.is_available()\n",
    "device = torch.device(\"cuda\" if use_cuda else \"cpu\")\n",
    "\n",
    "train_dataset = torchvision.datasets.STL10('./data', split='train', transform=transform, download=True)\n",
    "test_dataset = torchvision.datasets.STL10('./data', split='test', transform=transform, download=True)\n",
    "\n",
    "BATCH_SIZE=64\n",
    "TEST_BATCH_SIZE=64\n",
    "\n",
    "train_loader = torch.utils.data.DataLoader(train_dataset, batch_size=BATCH_SIZE)\n",
    "test_loader = torch.utils.data.DataLoader(test_dataset, batch_size=TEST_BATCH_SIZE)\n"
   ]
  },
  {
   "cell_type": "code",
   "execution_count": null,
   "metadata": {
    "collapsed": true
   },
   "outputs": [],
   "source": [
    "def train(model, device, train_loader, optimizer, epoch, log_every=5):\n",
    "    model.train()\n",
    "    l = nn.CrossEntropyLoss()\n",
    "    losses = list()\n",
    "    for batch_idx, (data, target) in enumerate(train_loader):\n",
    "        data, target = data.to(device), target.to(device)\n",
    "        optimizer.zero_grad()\n",
    "        output = model(data)\n",
    "        loss = l(output, target)\n",
    "        loss.backward()\n",
    "        optimizer.step()\n",
    "        if batch_idx % log_every == 0:\n",
    "            losses.append(loss.item())\n",
    "            print(loss.item())\n",
    "    return losses\n",
    "\n",
    "def test(model, device, test_loader):\n",
    "    model.eval()\n",
    "    test_loss = 0\n",
    "    correct = 0\n",
    "    l = nn.CrossEntropyLoss()\n",
    "\n",
    "    with torch.no_grad():\n",
    "        for data, target in test_loader:\n",
    "            data, target = data.to(device), target.to(device)\n",
    "            output = model(data)\n",
    "            test_loss += l(output, target).item() # sum up batch loss\n",
    "            pred = output.max(1, keepdim=True)[1] # get the index of the max log-probability\n",
    "            correct += pred.eq(target.view_as(pred)).sum().item()\n",
    "\n",
    "    test_loss /= len(test_loader.dataset)\n",
    "    print('\\nTest set: Average loss: {:.4f}, Accuracy: {}/{} ({:.0f}%)\\n'.format(\n",
    "        test_loss, correct, len(test_loader.dataset),\n",
    "        100. * correct / len(test_loader.dataset)))"
   ]
  },
  {
   "cell_type": "code",
   "execution_count": null,
   "metadata": {
    "collapsed": true
   },
   "outputs": [],
   "source": [
    "def get_pretrained_network():\n",
    "    resnet = models.resnet18(pretrained=True)\n",
    "    \n",
    "    # delete the last fc layer and spatial pooling layer\n",
    "    modules = list(resnet.children())[:-1] \n",
    "    \n",
    "    # We use a smaller image size, so replace the avg pool \n",
    "    modules[-1] = torch.nn.AvgPool2d(kernel_size=3, stride=1, padding=0) \n",
    "    \n",
    "    # 'Rebuild' the model\n",
    "    resnet = nn.Sequential(*modules)\n",
    "\n",
    "#     # Do not overwrite the pretrained weights\n",
    "#     for param in resnet.parameters():\n",
    "#         param.requires_grad = False\n",
    "    return resnet\n",
    "\n",
    "class Network(nn.Module):\n",
    "    def __init__(self):\n",
    "        super(Network, self).__init__()\n",
    "        self.pretrained = get_pretrained_network()\n",
    "        self.fc = nn.Linear(512, 10)\n",
    "    def forward(self, x):\n",
    "        x = self.pretrained(x)\n",
    "        x = x.view(x.size(0), -1)\n",
    "        x = F.relu(self.fc(x))\n",
    "        return x\n",
    "    "
   ]
  },
  {
   "cell_type": "code",
   "execution_count": null,
   "metadata": {},
   "outputs": [],
   "source": [
    "EPOCHS=10\n",
    "LEARNING_RATE=0.01\n",
    "\n",
    "model = Network().to(device)\n",
    "#optimizer = optim.Adam(model.parameters()) # Feel free to use a different optimizer\n",
    "criterion = nn.CrossEntropyLoss()\n",
    "optimizer = optim.SGD(model.parameters(), lr=0.001, momentum=0.9)\n",
    "\n",
    "for epoch in range(EPOCHS):\n",
    "    losses = train(model, device, train_loader, optimizer, epoch)\n",
    "    utils.plot_utils.plot_loss(losses, epoch)\n",
    "    test(model, device, test_loader)\n"
   ]
  }
 ],
 "metadata": {
  "kernelspec": {
   "display_name": "Python 3",
   "language": "python",
   "name": "python3"
  },
  "language_info": {
   "codemirror_mode": {
    "name": "ipython",
    "version": 3
   },
   "file_extension": ".py",
   "mimetype": "text/x-python",
   "name": "python",
   "nbconvert_exporter": "python",
   "pygments_lexer": "ipython3",
   "version": "3.6.0"
  }
 },
 "nbformat": 4,
 "nbformat_minor": 2
}
